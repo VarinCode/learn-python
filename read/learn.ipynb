{
 "cells": [
  {
   "attachments": {},
   "cell_type": "markdown",
   "metadata": {},
   "source": [
    "<header>\n",
    "    <h3>ข้อความ(String)</h3>\n",
    "</header>\n",
    "\n",
    "<style>\n",
    "    header h3{\n",
    "        text-decoration: underline;\n",
    "        font-size: 31px;\n",
    "        text-align:center;\n",
    "        color: #67EE27;\n",
    "    }\n",
    "</style>"
   ]
  },
  {
   "cell_type": "code",
   "execution_count": null,
   "metadata": {
    "is_executing": true
   },
   "outputs": [],
   "source": [
    "# 1.) Single Quote\n",
    "'ข้อความ'\n",
    "# 2.) Dobble Quote\n",
    "\"ข้อความ\"\n",
    "# 3.) Single Triple Quote\n",
    "'''\n",
    "ข้อความแบบหลายบรรทัด\n",
    "'''\n",
    "# 4.) Dobble Triple Quote\n",
    "\"\"\"\"\n",
    "ข้อความแบบหลายบรรทัด\n",
    "\"\"\"\n",
    "\n",
    "# ตัวอย่าง\n",
    "\"my String\"\n",
    "\"นี้คือข้อความ\"\n",
    "\n",
    "# การใช้งานข้อความ ร่วมกับตัวแปร\n",
    "# f string (f มาจากคำว่า format กลายเป็น format string)\n",
    "s = 'f-string'\n",
    "s = f\"นี้คือข้อวามแบบ {s}\"\n",
    "\n",
    "# การแสดงข้อความด้วยคำสั่ง print\n",
    "print(s)\n",
    "# การใช้ข้อความแบบต่อเรียงกัน\n",
    "print(\"การแสดงผล\",\"ข้อ\",\"ความ\" , \"ใน\" , \"ภาษา\" , \" Python\" , sep='')\n",
    "\n",
    "# อักขระพิเศษที่ใช้คู่ก้ับ string\n",
    "'\\n' # ขึ้นบรรทัดทัดใหม่\n",
    "'\\t' # เว้นแท็บหรือเว้นวรรค 1ช่อง\n",
    "'\\'' # \\ ไว้ใช้แสดงเครื่องหมายที่เป็น single quote หรือ dobble quote ในข้อความ"
   ]
  },
  {
   "cell_type": "code",
   "execution_count": null,
   "metadata": {
    "is_executing": true
   },
   "outputs": [],
   "source": [
    "# ชนิดข้อมูล (Data-Type)\n",
    "string = ''\n",
    "print(type (string)) # ข้อความ\n",
    "string = \"\"\n",
    "print(type (string)) # ข้อความ\n",
    "number = 1\n",
    "print(type(number)) # ตัวเลขจำนวนเต็มบวก\n",
    "number = -4\n",
    "print(type(number)) # ตัวเลขจำนวนเต็มลบ\n",
    "number = 3.92\n",
    "print(type(number)) # ตัวเลขทศนิยม\n",
    "number = -993.2\n",
    "print(type(number)) # ตัวเลขทศนิยมติดลบ\n",
    "boolean = True \n",
    "print(type(boolean)) # จริง\n",
    "boolean = False\n",
    "print(type(boolean)) # เท็จ"
   ]
  },
  {
   "cell_type": "code",
   "execution_count": null,
   "metadata": {},
   "outputs": [],
   "source": [
    "# ตัวแปร (Variable)\n",
    "# สามารถสร้างตัวแปรใช้งานได้โดยการระบุชื่อและค่าให้มันลงไป\n",
    "\n",
    "# ตัวอย่าง\n",
    "# ชื่อ เครื่องหมายเท่ากับ ค่าข้อมูล\n",
    "name = ''"
   ]
  },
  {
   "cell_type": "code",
   "execution_count": 1,
   "metadata": {},
   "outputs": [
    {
     "name": "stdout",
     "output_type": "stream",
     "text": [
      "การบวก 3 + 8 = 11\n",
      "การลบ 4 - 12 = -8\n",
      "การคูณ 2 * 2 = 4\n",
      "การหาร 7 / 5 = 1.4\n",
      "การารเอาจำนวนเต็ม 9 // 9 = 1\n",
      "การหารเอาเศษ 26 % 3 = 2\n",
      "2\n",
      "0\n",
      "84\n",
      "3.0\n",
      "2\n",
      "0\n"
     ]
    }
   ],
   "source": [
    "# เครื่องหมาย (Operator)\n",
    "\n",
    "# Assignment operator\n",
    "# เครื่องหมายเท่ากับ ( = ) เป็นการกำหนดค่าข้อมูลให้กับตัวแปร หรือ เปลี่ยนข้อมูลในตัวแปรนั้น\n",
    "num = 50\n",
    "string = \"Hi\"\n",
    "boolean = False\n",
    "\n",
    "# Automatic operator\n",
    "# บวก ลบ คูณ หาร เครื่องหมายการคำนวณทางตณิตศาสตร์\n",
    "'''\n",
    "    +   เครื่องหมายบวก\n",
    "    -   เครื่องหมายลบ\n",
    "    *   เครื่องหมายคูณ\n",
    "    /   เครื่องหมายหาร\n",
    "    //  เครื่องหมายหารเอาจำนวนเต็ม\n",
    "    %   เครื่องหมายหารเอาเศษ\n",
    "'''\n",
    "print(f\"การบวก 3 + 8 = {3 + 8}\")\n",
    "print(f\"การลบ 4 - 12 = {4 - 12}\" )\n",
    "print(f\"การคูณ 2 * 2 = {2 + 2}\")\n",
    "print(f\"การหาร 7 / 5 = {7 / 5}\")\n",
    "print(f\"การารเอาจำนวนเต็ม 9 // 9 = {9 // 9}\")\n",
    "print(f\"การหารเอาเศษ 26 % 3 = {26 % 3}\")\n",
    "\n",
    "# Automatic Assignment operator\n",
    "# บวก ลบ คูณ หาร แบบกำหนดค่าให้ตัวแปร\n",
    "'''\n",
    "    +=   เครื่องหมายบวกเพิ่มเท่ากับ\n",
    "    -=   เครื่องหมายลบลดลงเท่ากับ\n",
    "    *=   เครื่องหมายคูณเพิ่มเท่ากับ\n",
    "    /=   เครื่องหมายหารเท่ากับ\n",
    "    //=  เครื่องหมายหารเอาจำนวนเต็มเท่ากับ\n",
    "    %=   เครื่องหมายหารเอาเศษเท่ากับ\n",
    "'''\n",
    "\n",
    "# ตัวอย่าง\n",
    "n1= 1 ; n1 += 1\n",
    "print(n1)\n",
    "n2 = 5 ; n2 -= 5\n",
    "print(n2)\n",
    "n3 = 7 ; n3 *= 12\n",
    "print(n3)\n",
    "n4 = 6 ; n4 /= 2\n",
    "print(n4)\n",
    "n5 = 4 ; n5 //= 2\n",
    "print(n5)\n",
    "n6 = 18; n6 %= 9\n",
    "print(n6)\n",
    "\n",
    "# Comparison Operator\n",
    "# การใช้เครื่องหมายการเปรี่ยบเทียบค่าบางสี่งแล้วผลสุดท้ายที่ได้ค่าเป็น Boolean (True of False)\n",
    "'''\n",
    "    ==   เครื่องหมายเท่ากับ\n",
    "    !=   เครื่องหมายไม่เท่ากับ\n",
    "    and  จริง (ต้อง True และ True เท่านั้นถึงจะได้ค่าจริงที่เหลือเป็นเท็จ)\n",
    "    or   หรือ (เมื่อมี True ตัวไหนค่านั้นจะเป็นค่าจริง)\n",
    "    not  ไม่ (เปลี่ยนจาก Boolean เป็นค่าตรงกันข้ามตัวมันจาก True เป็น False และ False เป็น True)\n",
    "'''"
   ]
  },
  {
   "cell_type": "code",
   "execution_count": null,
   "metadata": {},
   "outputs": [],
   "source": [
    "# Function (defined)\n",
    "# การสร้าง fnnction ใน python จะใช้คียเวริด์ทีนำหน้าคือ def ตามด้วยชื่อ function\n",
    "def myFunction():\n",
    "    return 1"
   ]
  }
 ],
 "metadata": {
  "kernelspec": {
   "display_name": "Python 3",
   "language": "python",
   "name": "python3"
  },
  "language_info": {
   "codemirror_mode": {
    "name": "ipython",
    "version": 3
   },
   "file_extension": ".py",
   "mimetype": "text/x-python",
   "name": "python",
   "nbconvert_exporter": "python",
   "pygments_lexer": "ipython3",
   "version": "3.10.11"
  },
  "orig_nbformat": 4,
  "vscode": {
   "interpreter": {
    "hash": "a3a64ffb642fe7c0861f656b2d9731629c3d04cfeb3759cf09c89ac2bb8e5d6f"
   }
  }
 },
 "nbformat": 4,
 "nbformat_minor": 2
}
