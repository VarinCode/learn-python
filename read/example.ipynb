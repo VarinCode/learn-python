{
 "cells": [
  {
   "cell_type": "code",
   "execution_count": 7,
   "metadata": {},
   "outputs": [
    {
     "name": "stdout",
     "output_type": "stream",
     "text": [
      "Hello World!\n",
      "Hello Jupyter Notebook!\n"
     ]
    }
   ],
   "source": [
    "# ทดสอบ\n",
    "print(\"Hello World!\" , 'Hello Jupyter Notebook!' , sep='\\n')"
   ]
  },
  {
   "cell_type": "code",
   "execution_count": 23,
   "metadata": {},
   "outputs": [
    {
     "name": "stdout",
     "output_type": "stream",
     "text": [
      "อายุของคุณคือ 19 ปี\n"
     ]
    }
   ],
   "source": [
    "# ตัวอย่างที่ 1\n",
    "import datetime\n",
    "date = datetime.datetime.now()\n",
    "year = date.strftime(\"%Y\")\n",
    "birthday = int(input('คุณเกิดปี พ.ศ >>> '))\n",
    "age = abs(int(birthday - 543) - int(year))\n",
    "print(f'อายุของคุณคือ {age} ปี')"
   ]
  },
  {
   "cell_type": "code",
   "execution_count": null,
   "metadata": {},
   "outputs": [
    {
     "name": "stdout",
     "output_type": "stream",
     "text": [
      "ราคาสินค้าทั้งหมด 119.40 บาท\n"
     ]
    }
   ],
   "source": [
    "# ตัวอย่างที่ 2\n",
    "price  = eval(input('ราคาสินค้า >>> '))\n",
    "quantity  = int(input('จำนวนสินค้า >>> '))\n",
    "total = price * quantity\n",
    "print(f'ราคาสินค้าทั้งหมด {total:,.2f} บาท')"
   ]
  },
  {
   "cell_type": "code",
   "execution_count": 10,
   "metadata": {},
   "outputs": [
    {
     "name": "stdout",
     "output_type": "stream",
     "text": [
      "สูตรคูณแม่ 3\n",
      "3 x 1 = 3\n",
      "3 x 2 = 6\n",
      "3 x 3 = 9\n",
      "3 x 4 = 12\n",
      "3 x 5 = 15\n"
     ]
    }
   ],
   "source": [
    "# ตัวอย่างที่ 3\n",
    "n = int(input('สูตรคูณแม่ >> '))\n",
    "l = int(input('ความยาว >> '))\n",
    "\n",
    "def multiplication_table(number = n , lenght = l):\n",
    "    print(f'สูตรคูณแม่ {number}')\n",
    "    for i in range(0,lenght):\n",
    "        i += 1\n",
    "        print(f'{number} x {i} = {number  * i}')\n",
    "\n",
    "multiplication_table()"
   ]
  },
  {
   "cell_type": "code",
   "execution_count": null,
   "metadata": {},
   "outputs": [
    {
     "name": "stdout",
     "output_type": "stream",
     "text": [
      "n! = n * (n-1) * (n-2) * .... * 1\n",
      "12! มีค่าเท่ากับ 479,001,600\n",
      "    \n"
     ]
    }
   ],
   "source": [
    "# ตัวอย่างที่ 4\n",
    "formula = 'n! = n * (n-1) * (n-2) * .... * 1'\n",
    "number = abs(int(input('ตัวเลข >> ')))\n",
    "\n",
    "def factorial(n):\n",
    "    sum = 1\n",
    "    if(n == 0): \n",
    "        sum\n",
    "    else:\n",
    "        while(n > 1):\n",
    "            sum *= n\n",
    "            n -= 1 \n",
    "    return sum\n",
    "    \n",
    "print(f'''{formula}\n",
    "{number}! มีค่าเท่ากับ {format(factorial(number) , ',')}\n",
    "    ''' )"
   ]
  },
  {
   "cell_type": "code",
   "execution_count": null,
   "metadata": {},
   "outputs": [
    {
     "name": "stdout",
     "output_type": "stream",
     "text": [
      "3 ยกกำลัง 2 = 9.0\n"
     ]
    }
   ],
   "source": [
    "# ตัวอย่างที่ 5\n",
    "from math import *\n",
    "x = eval(input('ตัวเลขที่จะยกกำลัง >> '))\n",
    "y = eval(input('ยกกำลังเท่าไหร่ >> '))\n",
    "\n",
    "def exponent(x , y):\n",
    "    return pow(x , y)\n",
    "\n",
    "print(f'{x} ยกกำลัง {y} = {exponent(x,y)}')"
   ]
  },
  {
   "cell_type": "code",
   "execution_count": null,
   "metadata": {},
   "outputs": [
    {
     "name": "stdout",
     "output_type": "stream",
     "text": [
      "อัตราเร็วคือ 4.00 m/s\n"
     ]
    }
   ],
   "source": [
    "# ตัวอย่างที่ 6\n",
    "Speed = eval(input('ระยะทาง >> '))\n",
    "Time = eval(input('เวลา >> '))\n",
    "def Velocity(s , t):\n",
    "    v = s / t\n",
    "    print(f'อัตราเร็วคือ {v:,.2f} m/s')\n",
    "\n",
    "Velocity(Speed , Time)"
   ]
  },
  {
   "cell_type": "code",
   "execution_count": 29,
   "metadata": {},
   "outputs": [
    {
     "name": "stdout",
     "output_type": "stream",
     "text": [
      "\n",
      "    1.) v = u + at\n",
      "    2.) s = (u + v /2)t \n",
      "    3.) s = ut + 1/2 at2\n",
      "    4.) s = vt - 1/2 at2\n",
      "    5.) v2 = u2 + 2as\n",
      "    \n",
      "    => เลือกสูตรที่ 5\n",
      "\n",
      "ความเร็วเท่ากับ 14,425.00 m/s\n"
     ]
    }
   ],
   "source": [
    "# ตัวอย่างที่ 7\n",
    "from math import *\n",
    "\n",
    "choose = int(input('เลือกสูตรที่ >> '))\n",
    "print(f'''\n",
    "    1.) v = u + at\n",
    "    2.) s = (u + v /2)t \n",
    "    3.) s = ut + 1/2 at2\n",
    "    4.) s = vt - 1/2 at2\n",
    "    5.) v2 = u2 + 2as\n",
    "    \n",
    "    => เลือกสูตรที่ {choose}\n",
    "''')\n",
    "\n",
    "def straight_motion():\n",
    "    if choose == 1:\n",
    "        a = eval(input('ความเร่ง >> '))\n",
    "        t = eval(input('เวลา >> '))\n",
    "        u = eval(input('ความเร็วต้น >> '))\n",
    "        v = u + (a * t)\n",
    "        return f'ความเร็วเท่ากับ {v:,.2f} m/s'\n",
    "    elif choose == 2:\n",
    "        t = eval(input('เวลา >> '))\n",
    "        u = eval(input('ความเร็วต้น >> '))\n",
    "        s = ((u + t) / 2) * t\n",
    "        return f'ระยะทางเท่ากับ {s:,.2f} m'\n",
    "    elif choose == 3:\n",
    "        a = eval(input('ความเร่ง >> '))\n",
    "        t = eval(input('เวลา >> '))\n",
    "        u = eval(input('ความเร็วต้น >> '))\n",
    "        s = (u * t) + (1 / 2 * (a * (pow(t , 2))))\n",
    "        return f'ระยะทางเท่ากับ {s:,.2f} m'\n",
    "    elif choose == 4:\n",
    "        a = eval(input('ความเร่ง >> '))\n",
    "        t = eval(input('เวลา >> '))\n",
    "        u = eval(input('ความเร็วต้น >> '))\n",
    "        s = (u * t) - (1 / 2 * (a * (pow(t , 2))))\n",
    "        return f'ระยะทางเท่ากับ {s:,.2f} m'\n",
    "    elif choose == 5:\n",
    "        a = eval(input('ความเร่ง >> '))\n",
    "        s = eval(input('ระยะทาง >> ')) \n",
    "        u = eval(input('ความเร็วต้น >> '))\n",
    "        v2 = pow(u , 2) + (2 * (a * s))\n",
    "        return f'ความเร็วเท่ากับ {v2:,.2f} m/s'\n",
    "\n",
    "if 6 > choose:\n",
    "    print(straight_motion())\n",
    "else: \n",
    "    print('โปรดเลือกตัวเลขตั้งแต่ 1 ถึง 5 เท่านั้น!')"
   ]
  },
  {
   "cell_type": "code",
   "execution_count": 12,
   "metadata": {},
   "outputs": [
    {
     "name": "stdout",
     "output_type": "stream",
     "text": [
      "\n",
      "    สูตรการหาพื้นที่ของรูปเรขาคณิตต่างๆ\n",
      " \n",
      "1. สูตรการหาพื้นที่สี่เหลี่ยมจัตุรัส = ด้าน x ด้าน หรือ 1/2 x ผลคูณของเส้นทแยงมุม\n",
      "2. สูตรการหาพื้นที่สี่เหลี่ยมผืนผ้า = กว้าง x ยาว\n",
      "3. สูตรการหาพื้นที่สามเหลี่ยม = 1/2 x ฐาน x สูง\n",
      "4. สูตรการหาพื้นที่สี่เหลี่ยมขนมเปียกปูน = ฐาน x สูง หรือ 1/2 x ผลคูณของเส้นทแยงมุม\n",
      "5. สูตรการหาพื้นที่สี่เหลี่ยมด้านขนาน = ฐาน x สูง\n",
      "6. สูตรการหาพื้นที่สี่เหลี่ยมรูปว่าว = 1/2 x ผลคูณของเส้นทแยงมุม\n",
      "7. สูตรการหาพื้นที่สี่เหลี่ยมด้านไม่เท่า = 1/2 x เส้นทแยงมุม x ผลบวกของเส้นกิ่ง\n",
      "8. สูตรการหาพื้นที่วงกลม = พาย x รัศมี2\n",
      "\n",
      "คุณเลือกสูตรที่ 4\n",
      "พื้นที่สี่เหลี่ยมขนมเปียกปูนคือ 267\n"
     ]
    }
   ],
   "source": [
    "# ตัวอย่างที่ 8\n",
    "import math as m \n",
    "\n",
    "f = '''\n",
    "    สูตรการหาพื้นที่ของรูปเรขาคณิตต่างๆ\n",
    " \n",
    "1. สูตรการหาพื้นที่สี่เหลี่ยมจัตุรัส = ด้าน x ด้าน หรือ 1/2 x ผลคูณของเส้นทแยงมุม\n",
    "2. สูตรการหาพื้นที่สี่เหลี่ยมผืนผ้า = กว้าง x ยาว\n",
    "3. สูตรการหาพื้นที่สามเหลี่ยม = 1/2 x ฐาน x สูง\n",
    "4. สูตรการหาพื้นที่สี่เหลี่ยมขนมเปียกปูน = ฐาน x สูง หรือ 1/2 x ผลคูณของเส้นทแยงมุม\n",
    "5. สูตรการหาพื้นที่สี่เหลี่ยมด้านขนาน = ฐาน x สูง\n",
    "6. สูตรการหาพื้นที่สี่เหลี่ยมรูปว่าว = 1/2 x ผลคูณของเส้นทแยงมุม\n",
    "7. สูตรการหาพื้นที่สี่เหลี่ยมด้านไม่เท่า = 1/2 x เส้นทแยงมุม x ผลบวกของเส้นกิ่ง\n",
    "8. สูตรการหาพื้นที่วงกลม = พาย x รัศมี2\n",
    "''' \n",
    "print(f)\n",
    "c = int(input('เลือกตัวเลข >> '))\n",
    "print(f'คุณเลือกสูตรที่ {c}')\n",
    "\n",
    "def Geometric_formula():\n",
    "    if c == 1:\n",
    "        side = int(input('ด้าน >> '))\n",
    "        quadrature = m.pow(side , 2)\n",
    "        print(f'พื้นที่สี่เหลี่ยมจัตุรัสคือ {quadrature}')\n",
    "    elif c == 2:\n",
    "        wide = int(input('กว้าง >> '))\n",
    "        long = int(input('ยาว >> '))\n",
    "        rectangle = wide * long\n",
    "        print(f'พื้นที่สี่เหลี่ยมผืนผ้าคือ {rectangle}')\n",
    "    elif c == 3:\n",
    "        base = int(input('ฐาน >> '))\n",
    "        high = int(input('สูง >> '))\n",
    "        triangle = 1 / 2 * (base * high)\n",
    "        print(f'พื้นที่สามเหลี่ยมคือ {triangle}')\n",
    "    elif c == 4:\n",
    "        if 1:\n",
    "            base = int(input('ฐาน >> '))\n",
    "            high = int(input('สูง >> '))\n",
    "            rhombus1 = base * high\n",
    "            print(f'พื้นที่สี่เหลี่ยมขนมเปียกปูนคือ {rhombus1}')\n",
    "        else:\n",
    "            product_of_diagonal = base * high\n",
    "            rhombus2 = 1 / 2  * product_of_diagonal\n",
    "            print(f'พื้นที่สี่เหลี่ยมขนมเปียกปูนคือ {rhombus2}')\n",
    "\n",
    "Geometric_formula()"
   ]
  },
  {
   "cell_type": "code",
   "execution_count": 6,
   "metadata": {},
   "outputs": [
    {
     "name": "stdout",
     "output_type": "stream",
     "text": [
      "password >> Bl5?*-M+_FHmGg/l\n"
     ]
    }
   ],
   "source": [
    "# ตัวอย่างที่ 9\n",
    "import random as r\n",
    "lenght = int(input('ความยาวของรหัสผ่าน >> '))\n",
    "\n",
    "def password_generator(l):\n",
    "    global password\n",
    "    num = '0123456789'\n",
    "    char = 'abcdefghijklmnopqrstuvwxyz'\n",
    "    sym = '+-*/%$#@<>=|?!^_.,(){}[];:'\n",
    "    total = num + char + char.upper() + sym\n",
    "    if (l > 0  and l <= 17 and type(l) == type(0)):\n",
    "        try:\n",
    "            list = []\n",
    "            password = ''\n",
    "            i = 0; int(i)\n",
    "            for i in range(0,l+1,1):\n",
    "                ran = r.choice(total)\n",
    "                list.append(ran)\n",
    "                password += '' + list[i]\n",
    "        except:\n",
    "            pass\n",
    "        finally:\n",
    "            return f'password >> {password}'\n",
    "    elif (0 <= l >= 17): \n",
    "        return f'ไม่สามารถสร้างรหัส่านที่มีความยาว {l} ได้'\n",
    "\n",
    "print(password_generator(lenght))"
   ]
  },
  {
   "cell_type": "code",
   "execution_count": 12,
   "metadata": {},
   "outputs": [
    {
     "name": "stdout",
     "output_type": "stream",
     "text": [
      "เลข 12\n",
      "เป็นเลขคู่\n"
     ]
    }
   ],
   "source": [
    "# ตัวอย่างที่ 10\n",
    "n = int(input('ตัวเลข >> '))\n",
    "print(f'เลข {n}')\n",
    "\n",
    "if n % 2 == 0:\n",
    "    print('เป็นเลขคู่')\n",
    "elif n % 2 != 0:\n",
    "    print('เป็นเลขคี่')"
   ]
  },
  {
   "cell_type": "code",
   "execution_count": 8,
   "metadata": {},
   "outputs": [
    {
     "name": "stdout",
     "output_type": "stream",
     "text": [
      "ข้อมูลทั้งหมด => [12, 32, 43, 2, 54]\n",
      "ผลรวมทั้งหมดเท่ากับ 143\n",
      "ค่าเฉลี่ยเลขคณิตเท่ากับ 28.60\n"
     ]
    }
   ],
   "source": [
    "# ตัวอย่างที่ 11\n",
    "li = []\n",
    "def inputData(l):\n",
    "    for i in range(0, l ,1):\n",
    "        li.append(int(input(f'รับข้อมูลจำนวนที่ {i + 1}')))\n",
    "        \n",
    "    print(f'ข้อมูลทั้งหมด => {li}')\n",
    "    print(f'ผลรวมทั้งหมดเท่ากับ {sum(li)}') \n",
    "    print(f'ค่าเฉลี่ยเลขคณิตเท่ากับ {sum(li) / li.__len__():,.2f}')\n",
    "    \n",
    "inputData(int(input('รับตัวเลขกี่ตัว?')))"
   ]
  },
  {
   "cell_type": "code",
   "execution_count": 2,
   "metadata": {},
   "outputs": [
    {
     "name": "stdout",
     "output_type": "stream",
     "text": [
      "4 อยู่ในช่วงตัวเลข 1 ถึง 10\n"
     ]
    }
   ],
   "source": [
    "# ตัวอย่างที่ 12\n",
    "l = [*range(1 , 10 + 1)]\n",
    "n = eval(input('โปรดส่งตัวเลขมา ค้นหาข้อตัวเลขว่าเป็นเลข 1 ถึง 10 ไหม'))\n",
    "\n",
    "if n in l: print(f'{n} อยู่ในช่วงตัวเลข 1 ถึง 10')\n",
    "else: print(f'{n} ไม่อยู่ในช่วงตัวเลข 1 ถึง 10')"
   ]
  },
  {
   "cell_type": "code",
   "execution_count": 17,
   "metadata": {},
   "outputs": [
    {
     "name": "stdout",
     "output_type": "stream",
     "text": [
      "500,500\n"
     ]
    }
   ],
   "source": [
    "# ตัวอย่างที่ 13\n",
    "def _sum(*params):\n",
    "    total = 0;\n",
    "    for n in params:\n",
    "        total += n;\n",
    "    return format(total , ',')\n",
    "print(_sum(*range(1001)))"
   ]
  },
  {
   "cell_type": "code",
   "execution_count": 35,
   "metadata": {},
   "outputs": [
    {
     "name": "stdout",
     "output_type": "stream",
     "text": [
      "ตัวเลขที่รับมาคือ 90493003454\n",
      "ตัวเลขไทย ๙๐๔๙๓๐๐๓๔๕๔\n"
     ]
    }
   ],
   "source": [
    "# ตัวอย่างที่ 14\n",
    "N_TH = tuple(\"๐,๑,๒,๓,๔,๕,๖,๗,๘,๙\".split(','))\n",
    "N_EN = tuple('0 1 2 3 4 5 6 7 8 9'.split(' '))\n",
    "inp = input(\"ตัวเลข >> \")\n",
    "num = \"\"\n",
    "for iStr in inp:\n",
    "    i = N_EN.index(iStr)\n",
    "    num += N_TH[i];\n",
    "print('ตัวเลขที่รับมาคือ %s' %(inp) , 'ตัวเลขไทย %s' %(num),sep='\\n')"
   ]
  }
 ],
 "metadata": {
  "kernelspec": {
   "display_name": "Python 3",
   "language": "python",
   "name": "python3"
  },
  "language_info": {
   "codemirror_mode": {
    "name": "ipython",
    "version": 3
   },
   "file_extension": ".py",
   "mimetype": "text/x-python",
   "name": "python",
   "nbconvert_exporter": "python",
   "pygments_lexer": "ipython3",
   "version": "3.10.11"
  },
  "orig_nbformat": 4,
  "vscode": {
   "interpreter": {
    "hash": "c7badbfd0a57f127e76b404b0219c8fcb541853c3945957a1143f01a6a6d3b04"
   }
  }
 },
 "nbformat": 4,
 "nbformat_minor": 2
}
