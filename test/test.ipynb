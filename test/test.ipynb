{
 "cells": [
  {
   "cell_type": "code",
   "execution_count": 23,
   "metadata": {},
   "outputs": [
    {
     "name": "stdout",
     "output_type": "stream",
     "text": [
      "13:05:25\n"
     ]
    }
   ],
   "source": [
    "from datetime import datetime, date , time\n"
   ]
  },
  {
   "cell_type": "code",
   "execution_count": 58,
   "metadata": {},
   "outputs": [
    {
     "name": "stdout",
     "output_type": "stream",
     "text": [
      "เขียนข้อมูลผู้ใช้งานในวันที่ 23 August 2023 เวลา 13:39:59\n",
      "เขียนข้อมูลผู้ใช้งานในวันที่ 23 August 2023 เวลา 13:40:03\n",
      "\n",
      "ข้อมูลผู้ใช้งานคนที่ 1\n",
      "first_name: John\n",
      "last_name: Doe\n",
      "id: 140\n",
      "phone: 06x-xxx-xxxx\n",
      "email: JohnDoe@email.com\n",
      "\n",
      "ข้อมูลผู้ใช้งานคนที่ 2\n",
      "first_name: Jane\n",
      "last_name: Doe\n",
      "id: 435\n",
      "phone: 03x-xxx-xxxx\n",
      "email: JaneDoe@email.com\n"
     ]
    }
   ],
   "source": [
    "from random import randint\n",
    "from datetime import datetime\n",
    "\n",
    "data = []\n",
    "def createUser(**kwargs):\n",
    "    dt = datetime.now()\n",
    "    print(f'{dt.strftime(\"เขียนข้อมูลผู้ใช้งานในวันที่ %d %B %Y\")} {dt.time().strftime(\"เวลา %H:%M:%S\")}')\n",
    "    kwargs['email'] = f\"{kwargs['first_name']}{kwargs['last_name']}@email.com\"\n",
    "    return kwargs\n",
    "\n",
    "for i in range(2):\n",
    "    user = createUser( \n",
    "            first_name = input('ชื่อ?'), \n",
    "            last_name= input('นามสุกล?'), \n",
    "            id= randint(1,1000), \n",
    "            phone=f'0{randint(0,9)}x-xxx-xxxx'\n",
    "    )\n",
    "    data.append(user)\n",
    "keys = tuple(dict(user).keys())\n",
    "def showInfo(n = 1):\n",
    "    for obj in data:\n",
    "        print(f'\\nข้อมูลผู้ใช้งานคนที่ {n}')\n",
    "        n += 1\n",
    "        for key in keys:\n",
    "            print(f'{key}: {obj[key]}')\n",
    "showInfo()\n"
   ]
  }
 ],
 "metadata": {
  "kernelspec": {
   "display_name": "Python 3",
   "language": "python",
   "name": "python3"
  },
  "language_info": {
   "codemirror_mode": {
    "name": "ipython",
    "version": 3
   },
   "file_extension": ".py",
   "mimetype": "text/x-python",
   "name": "python",
   "nbconvert_exporter": "python",
   "pygments_lexer": "ipython3",
   "version": "3.11.4"
  },
  "orig_nbformat": 4
 },
 "nbformat": 4,
 "nbformat_minor": 2
}
